{
 "cells": [
  {
   "cell_type": "code",
   "execution_count": 2,
   "metadata": {},
   "outputs": [
    {
     "name": "stdout",
     "output_type": "stream",
     "text": [
      "480\n",
      "320\n",
      "180000\n",
      "-9223372036854775808\n"
     ]
    }
   ],
   "source": [
    "#import Libray's\n",
    "import numpy as np \n",
    "import cv2 \n",
    "import time , os\n",
    "#put rtsp or cctv camera ip \n",
    "cap = cv2.VideoCapture('rtsp://192.168.43.224:7878/h264_ulaw.sdp')\n",
    "#geting resolution of rtsp or cctv camera\n",
    "#width\n",
    "width = int(cap.get(cv2.CAP_PROP_FRAME_WIDTH ))\n",
    "#height\n",
    "height = int(cap.get(cv2.CAP_PROP_FRAME_HEIGHT ))\n",
    "#fps\n",
    "fps = int(cap.get(cv2.CAP_PROP_FPS))\n",
    "n_frames = int(cap.get(cv2.CAP_PROP_FRAME_COUNT))\n",
    "#write video on disk \n",
    "fourcc = cv2.VideoWriter_fourcc(*'XVID') \n",
    "out = cv2.VideoWriter('output_file.avi', fourcc, fps, (width, height)) \n",
    "  \n",
    "while(True): \n",
    "    ret, frame = cap.read()\n",
    "      \n",
    "    # output the frame \n",
    "    out.write(frame)\n",
    "      \n",
    "    # The original input frame is shown in the window  \n",
    "    cv2.imshow('Original', frame)\n",
    "      \n",
    "    # Wait for 'a' key to stop the program  \n",
    "    if cv2.waitKey(1) & 0xFF == ord('q'): \n",
    "        break\n",
    "  \n",
    "# Close the window / Release webcam \n",
    "cap.release() \n",
    "  \n",
    "# After we release our webcam, we also release the output \n",
    "out.release()  \n",
    "  \n",
    "# De-allocate any associated memory usage  \n",
    "cv2.destroyAllWindows() "
   ]
  }
 ],
 "metadata": {
  "kernelspec": {
   "display_name": "Python 3",
   "language": "python",
   "name": "python3"
  },
  "language_info": {
   "codemirror_mode": {
    "name": "ipython",
    "version": 3
   },
   "file_extension": ".py",
   "mimetype": "text/x-python",
   "name": "python",
   "nbconvert_exporter": "python",
   "pygments_lexer": "ipython3",
   "version": "3.6.7"
  }
 },
 "nbformat": 4,
 "nbformat_minor": 2
}
